{
 "cells": [
  {
   "cell_type": "markdown",
   "metadata": {},
   "source": [
    "### Prepare fcs files for deep learning\n",
    "This is a small example for formatting data from fcs files into numpy array, and save the metaData, marker names and the numpy array into allData.obj file. Use the script as a template to prepare your own fcs files for deep learning. "
   ]
  },
  {
   "cell_type": "code",
   "execution_count": 2,
   "metadata": {},
   "outputs": [
    {
     "name": "stdout",
     "output_type": "stream",
     "text": [
      "Collecting rpy2\n",
      "  Downloading rpy2-3.5.13.tar.gz (218 kB)\n",
      "\u001b[K     |████████████████████████████████| 218 kB 1.6 MB/s eta 0:00:01\n",
      "\u001b[?25h  Installing build dependencies ... \u001b[?25ldone\n",
      "\u001b[?25h  Getting requirements to build wheel ... \u001b[?25ldone\n",
      "\u001b[?25h    Preparing wheel metadata ... \u001b[?25ldone\n",
      "\u001b[?25hCollecting tzlocal\n",
      "  Downloading tzlocal-5.0.1-py3-none-any.whl (20 kB)\n",
      "Requirement already satisfied: cffi>=1.10.0 in /home/ewillie/miniconda3/lib/python3.9/site-packages (from rpy2) (1.15.0)\n",
      "Requirement already satisfied: jinja2 in /home/ewillie/miniconda3/lib/python3.9/site-packages (from rpy2) (3.1.2)\n",
      "Requirement already satisfied: pycparser in /home/ewillie/miniconda3/lib/python3.9/site-packages (from cffi>=1.10.0->rpy2) (2.21)\n",
      "Requirement already satisfied: MarkupSafe>=2.0 in /home/ewillie/miniconda3/lib/python3.9/site-packages (from jinja2->rpy2) (2.1.2)\n",
      "Building wheels for collected packages: rpy2\n",
      "  Building wheel for rpy2 (PEP 517) ... \u001b[?25ldone\n",
      "\u001b[?25h  Created wheel for rpy2: filename=rpy2-3.5.13-cp39-cp39-linux_x86_64.whl size=262982 sha256=5e6e25c7e33c498ba4493aeea912f6e91f6ad246e344401572025d9298f7fc74\n",
      "  Stored in directory: /home/ewillie/.cache/pip/wheels/6b/78/1f/91040f2bc8e2ae1f542ec592ec60f2d57087c33f6e4889e67f\n",
      "Successfully built rpy2\n",
      "Installing collected packages: tzlocal, rpy2\n",
      "Successfully installed rpy2-3.5.13 tzlocal-5.0.1\n"
     ]
    }
   ],
   "source": [
    "import sys\n",
    "!{sys.executable} -m pip install rpy2"
   ]
  },
  {
   "cell_type": "code",
   "execution_count": 15,
   "metadata": {},
   "outputs": [],
   "source": [
    "import numpy as np\n",
    "import scipy as sp\n",
    "import pandas as pd\n",
    "import rpy2 as rp\n",
    "from rpy2.robjects.packages import importr\n",
    "from rpy2.robjects import pandas2ri\n",
    "from rpy2.robjects.conversion import localconverter\n",
    "import os \n",
    "import rpy2.robjects as ro\n",
    "import pickle\n",
    "from collections import Counter\n",
    "\n",
    "\n",
    "# import R's \"flowCore\" package\n",
    "utils = importr('flowCore')\n",
    "os.chdir('/home/ewillie/Documents/PhD/DeepLearning_CyTOF/COVID_19_PBMC_Mathew_2020/data/data_sub_10k')"
   ]
  },
  {
   "cell_type": "code",
   "execution_count": 16,
   "metadata": {},
   "outputs": [
    {
     "name": "stdout",
     "output_type": "stream",
     "text": [
      "                                file_name    sample_id  time_days  \\\n",
      "0      export_COVID19_994515 d7_Bcell.fcs    994515 d7          0   \n",
      "1      export_COVID19_994516 d7_Bcell.fcs    994516 d7          0   \n",
      "2      export_COVID19_994518 d7_Bcell.fcs    994518 d7          0   \n",
      "3      export_COVID19_994519 d7_Bcell.fcs    994519 d7          0   \n",
      "4     export_COVID19_994519_d21_Bcell.fcs   994519_d21         21   \n",
      "..                                    ...          ...        ...   \n",
      "209  export_COVID19_SCD2020-002_Bcell.fcs  SCD2020_002          0   \n",
      "210  export_COVID19_SCD2020-003_Bcell.fcs  SCD2020_003          0   \n",
      "211  export_COVID19_SRD2020_005_Bcell.fcs  SRD2020_005          0   \n",
      "212  export_COVID19_SRD2020_011_Bcell.fcs  SRD2020_011          0   \n",
      "213  export_COVID19_SRD2020-009_Bcell.fcs  SRD2020_009          0   \n",
      "\n",
      "      patient_id condition dataset  y  \n",
      "0         994515     COVID   train  1  \n",
      "1         994516     COVID   train  1  \n",
      "2         994518     COVID   train  1  \n",
      "3         994519     COVID   train  1  \n",
      "4         994519     COVID    test  1  \n",
      "..           ...       ...     ... ..  \n",
      "209  SCD2020_002        HD   train  0  \n",
      "210  SCD2020_003        HD    test  0  \n",
      "211  SRD2020_005        HD   train  0  \n",
      "212  SRD2020_011        HD   train  0  \n",
      "213  SRD2020_009        HD   train  0  \n",
      "\n",
      "[214 rows x 7 columns]\n"
     ]
    },
    {
     "data": {
      "text/plain": [
       "['/home/ewillie/Documents/PhD/DeepLearning_CyTOF/COVID_19_PBMC_Mathew_2020/data/data_sub_10k/export_COVID19_994515 d7_Bcell.fcs',\n",
       " '/home/ewillie/Documents/PhD/DeepLearning_CyTOF/COVID_19_PBMC_Mathew_2020/data/data_sub_10k/export_COVID19_994516 d7_Bcell.fcs',\n",
       " '/home/ewillie/Documents/PhD/DeepLearning_CyTOF/COVID_19_PBMC_Mathew_2020/data/data_sub_10k/export_COVID19_994518 d7_Bcell.fcs',\n",
       " '/home/ewillie/Documents/PhD/DeepLearning_CyTOF/COVID_19_PBMC_Mathew_2020/data/data_sub_10k/export_COVID19_994519 d7_Bcell.fcs',\n",
       " '/home/ewillie/Documents/PhD/DeepLearning_CyTOF/COVID_19_PBMC_Mathew_2020/data/data_sub_10k/export_COVID19_994519_d21_Bcell.fcs',\n",
       " '/home/ewillie/Documents/PhD/DeepLearning_CyTOF/COVID_19_PBMC_Mathew_2020/data/data_sub_10k/export_COVID19_994520 d7_Bcell.fcs',\n",
       " '/home/ewillie/Documents/PhD/DeepLearning_CyTOF/COVID_19_PBMC_Mathew_2020/data/data_sub_10k/export_COVID19_994523 d7_Bcell.fcs',\n",
       " '/home/ewillie/Documents/PhD/DeepLearning_CyTOF/COVID_19_PBMC_Mathew_2020/data/data_sub_10k/export_COVID19_994524 d7_Bcell.fcs',\n",
       " '/home/ewillie/Documents/PhD/DeepLearning_CyTOF/COVID_19_PBMC_Mathew_2020/data/data_sub_10k/export_COVID19_994526_Bcell.fcs',\n",
       " '/home/ewillie/Documents/PhD/DeepLearning_CyTOF/COVID_19_PBMC_Mathew_2020/data/data_sub_10k/export_COVID19_994527_Bcell.fcs',\n",
       " '/home/ewillie/Documents/PhD/DeepLearning_CyTOF/COVID_19_PBMC_Mathew_2020/data/data_sub_10k/export_COVID19_994528 d7_Bcell.fcs',\n",
       " '/home/ewillie/Documents/PhD/DeepLearning_CyTOF/COVID_19_PBMC_Mathew_2020/data/data_sub_10k/export_COVID19_994528_Bcell.fcs',\n",
       " '/home/ewillie/Documents/PhD/DeepLearning_CyTOF/COVID_19_PBMC_Mathew_2020/data/data_sub_10k/export_COVID19_994529_Bcell.fcs',\n",
       " '/home/ewillie/Documents/PhD/DeepLearning_CyTOF/COVID_19_PBMC_Mathew_2020/data/data_sub_10k/export_COVID19_994530_Bcell.fcs',\n",
       " '/home/ewillie/Documents/PhD/DeepLearning_CyTOF/COVID_19_PBMC_Mathew_2020/data/data_sub_10k/export_COVID19_994531_Bcell.fcs',\n",
       " '/home/ewillie/Documents/PhD/DeepLearning_CyTOF/COVID_19_PBMC_Mathew_2020/data/data_sub_10k/export_COVID19_994532_Bcell.fcs',\n",
       " '/home/ewillie/Documents/PhD/DeepLearning_CyTOF/COVID_19_PBMC_Mathew_2020/data/data_sub_10k/export_COVID19_994533 d7_Bcell.fcs',\n",
       " '/home/ewillie/Documents/PhD/DeepLearning_CyTOF/COVID_19_PBMC_Mathew_2020/data/data_sub_10k/export_COVID19_994533_Bcell.fcs',\n",
       " '/home/ewillie/Documents/PhD/DeepLearning_CyTOF/COVID_19_PBMC_Mathew_2020/data/data_sub_10k/export_COVID19_994534 d7_Bcell.fcs',\n",
       " '/home/ewillie/Documents/PhD/DeepLearning_CyTOF/COVID_19_PBMC_Mathew_2020/data/data_sub_10k/export_COVID19_994534_Bcell.fcs',\n",
       " '/home/ewillie/Documents/PhD/DeepLearning_CyTOF/COVID_19_PBMC_Mathew_2020/data/data_sub_10k/export_COVID19_994535 d7_Bcell.fcs',\n",
       " '/home/ewillie/Documents/PhD/DeepLearning_CyTOF/COVID_19_PBMC_Mathew_2020/data/data_sub_10k/export_COVID19_994535_Bcell.fcs',\n",
       " '/home/ewillie/Documents/PhD/DeepLearning_CyTOF/COVID_19_PBMC_Mathew_2020/data/data_sub_10k/export_COVID19_994536 d7_Bcell.fcs',\n",
       " '/home/ewillie/Documents/PhD/DeepLearning_CyTOF/COVID_19_PBMC_Mathew_2020/data/data_sub_10k/export_COVID19_994536_Bcell.fcs',\n",
       " '/home/ewillie/Documents/PhD/DeepLearning_CyTOF/COVID_19_PBMC_Mathew_2020/data/data_sub_10k/export_COVID19_994537 d7_Bcell.fcs',\n",
       " '/home/ewillie/Documents/PhD/DeepLearning_CyTOF/COVID_19_PBMC_Mathew_2020/data/data_sub_10k/export_COVID19_994537_Bcell.fcs',\n",
       " '/home/ewillie/Documents/PhD/DeepLearning_CyTOF/COVID_19_PBMC_Mathew_2020/data/data_sub_10k/export_COVID19_994538 d7_Bcell.fcs',\n",
       " '/home/ewillie/Documents/PhD/DeepLearning_CyTOF/COVID_19_PBMC_Mathew_2020/data/data_sub_10k/export_COVID19_994538_Bcell.fcs',\n",
       " '/home/ewillie/Documents/PhD/DeepLearning_CyTOF/COVID_19_PBMC_Mathew_2020/data/data_sub_10k/export_COVID19_994539_Bcell.fcs',\n",
       " '/home/ewillie/Documents/PhD/DeepLearning_CyTOF/COVID_19_PBMC_Mathew_2020/data/data_sub_10k/export_COVID19_994540_Bcell.fcs',\n",
       " '/home/ewillie/Documents/PhD/DeepLearning_CyTOF/COVID_19_PBMC_Mathew_2020/data/data_sub_10k/export_COVID19_994541_Bcell.fcs',\n",
       " '/home/ewillie/Documents/PhD/DeepLearning_CyTOF/COVID_19_PBMC_Mathew_2020/data/data_sub_10k/export_COVID19_994542 d7_Bcell.fcs',\n",
       " '/home/ewillie/Documents/PhD/DeepLearning_CyTOF/COVID_19_PBMC_Mathew_2020/data/data_sub_10k/export_COVID19_994542_Bcell.fcs',\n",
       " '/home/ewillie/Documents/PhD/DeepLearning_CyTOF/COVID_19_PBMC_Mathew_2020/data/data_sub_10k/export_COVID19_994543 d7_Bcell.fcs',\n",
       " '/home/ewillie/Documents/PhD/DeepLearning_CyTOF/COVID_19_PBMC_Mathew_2020/data/data_sub_10k/export_COVID19_994543_Bcell.fcs',\n",
       " '/home/ewillie/Documents/PhD/DeepLearning_CyTOF/COVID_19_PBMC_Mathew_2020/data/data_sub_10k/export_COVID19_994544 d7_Bcell.fcs',\n",
       " '/home/ewillie/Documents/PhD/DeepLearning_CyTOF/COVID_19_PBMC_Mathew_2020/data/data_sub_10k/export_COVID19_994544_Bcell.fcs',\n",
       " '/home/ewillie/Documents/PhD/DeepLearning_CyTOF/COVID_19_PBMC_Mathew_2020/data/data_sub_10k/export_COVID19_994545 d7_Bcell.fcs',\n",
       " '/home/ewillie/Documents/PhD/DeepLearning_CyTOF/COVID_19_PBMC_Mathew_2020/data/data_sub_10k/export_COVID19_994545_Bcell.fcs',\n",
       " '/home/ewillie/Documents/PhD/DeepLearning_CyTOF/COVID_19_PBMC_Mathew_2020/data/data_sub_10k/export_COVID19_994546_Bcell.fcs',\n",
       " '/home/ewillie/Documents/PhD/DeepLearning_CyTOF/COVID_19_PBMC_Mathew_2020/data/data_sub_10k/export_COVID19_994547_Bcell.fcs',\n",
       " '/home/ewillie/Documents/PhD/DeepLearning_CyTOF/COVID_19_PBMC_Mathew_2020/data/data_sub_10k/export_COVID19_994548_Bcell.fcs',\n",
       " '/home/ewillie/Documents/PhD/DeepLearning_CyTOF/COVID_19_PBMC_Mathew_2020/data/data_sub_10k/export_COVID19_994549_Bcell.fcs',\n",
       " '/home/ewillie/Documents/PhD/DeepLearning_CyTOF/COVID_19_PBMC_Mathew_2020/data/data_sub_10k/export_COVID19_994549_d7_Bcell.fcs',\n",
       " '/home/ewillie/Documents/PhD/DeepLearning_CyTOF/COVID_19_PBMC_Mathew_2020/data/data_sub_10k/export_COVID19_994550_Bcell.fcs',\n",
       " '/home/ewillie/Documents/PhD/DeepLearning_CyTOF/COVID_19_PBMC_Mathew_2020/data/data_sub_10k/export_COVID19_994551_Bcell.fcs',\n",
       " '/home/ewillie/Documents/PhD/DeepLearning_CyTOF/COVID_19_PBMC_Mathew_2020/data/data_sub_10k/export_COVID19_994552_Bcell.fcs',\n",
       " '/home/ewillie/Documents/PhD/DeepLearning_CyTOF/COVID_19_PBMC_Mathew_2020/data/data_sub_10k/export_COVID19_994553_Bcell.fcs',\n",
       " '/home/ewillie/Documents/PhD/DeepLearning_CyTOF/COVID_19_PBMC_Mathew_2020/data/data_sub_10k/export_COVID19_994554_Bcell.fcs',\n",
       " '/home/ewillie/Documents/PhD/DeepLearning_CyTOF/COVID_19_PBMC_Mathew_2020/data/data_sub_10k/export_COVID19_994554_d7_Bcell.fcs',\n",
       " '/home/ewillie/Documents/PhD/DeepLearning_CyTOF/COVID_19_PBMC_Mathew_2020/data/data_sub_10k/export_COVID19_994555_Bcell.fcs',\n",
       " '/home/ewillie/Documents/PhD/DeepLearning_CyTOF/COVID_19_PBMC_Mathew_2020/data/data_sub_10k/export_COVID19_994555_d7_Bcell.fcs',\n",
       " '/home/ewillie/Documents/PhD/DeepLearning_CyTOF/COVID_19_PBMC_Mathew_2020/data/data_sub_10k/export_COVID19_994556_Bcell.fcs',\n",
       " '/home/ewillie/Documents/PhD/DeepLearning_CyTOF/COVID_19_PBMC_Mathew_2020/data/data_sub_10k/export_COVID19_994557_Bcell.fcs',\n",
       " '/home/ewillie/Documents/PhD/DeepLearning_CyTOF/COVID_19_PBMC_Mathew_2020/data/data_sub_10k/export_COVID19_994558_Bcell.fcs',\n",
       " '/home/ewillie/Documents/PhD/DeepLearning_CyTOF/COVID_19_PBMC_Mathew_2020/data/data_sub_10k/export_COVID19_994559_Bcell.fcs',\n",
       " '/home/ewillie/Documents/PhD/DeepLearning_CyTOF/COVID_19_PBMC_Mathew_2020/data/data_sub_10k/export_COVID19_994560_Bcell.fcs',\n",
       " '/home/ewillie/Documents/PhD/DeepLearning_CyTOF/COVID_19_PBMC_Mathew_2020/data/data_sub_10k/export_COVID19_994561_Bcell.fcs',\n",
       " '/home/ewillie/Documents/PhD/DeepLearning_CyTOF/COVID_19_PBMC_Mathew_2020/data/data_sub_10k/export_COVID19_994561_d7_Bcell.fcs',\n",
       " '/home/ewillie/Documents/PhD/DeepLearning_CyTOF/COVID_19_PBMC_Mathew_2020/data/data_sub_10k/export_COVID19_994562_Bcell.fcs',\n",
       " '/home/ewillie/Documents/PhD/DeepLearning_CyTOF/COVID_19_PBMC_Mathew_2020/data/data_sub_10k/export_COVID19_994563_Bcell.fcs',\n",
       " '/home/ewillie/Documents/PhD/DeepLearning_CyTOF/COVID_19_PBMC_Mathew_2020/data/data_sub_10k/export_COVID19_994563_d7_Bcell.fcs',\n",
       " '/home/ewillie/Documents/PhD/DeepLearning_CyTOF/COVID_19_PBMC_Mathew_2020/data/data_sub_10k/export_COVID19_994564_Bcell.fcs',\n",
       " '/home/ewillie/Documents/PhD/DeepLearning_CyTOF/COVID_19_PBMC_Mathew_2020/data/data_sub_10k/export_COVID19_994565_d7_Bcell.fcs',\n",
       " '/home/ewillie/Documents/PhD/DeepLearning_CyTOF/COVID_19_PBMC_Mathew_2020/data/data_sub_10k/export_COVID19_994566_Bcell.fcs',\n",
       " '/home/ewillie/Documents/PhD/DeepLearning_CyTOF/COVID_19_PBMC_Mathew_2020/data/data_sub_10k/export_COVID19_994567_Bcell.fcs',\n",
       " '/home/ewillie/Documents/PhD/DeepLearning_CyTOF/COVID_19_PBMC_Mathew_2020/data/data_sub_10k/export_COVID19_994567_d7_Bcell.fcs',\n",
       " '/home/ewillie/Documents/PhD/DeepLearning_CyTOF/COVID_19_PBMC_Mathew_2020/data/data_sub_10k/export_COVID19_994568_Bcell.fcs',\n",
       " '/home/ewillie/Documents/PhD/DeepLearning_CyTOF/COVID_19_PBMC_Mathew_2020/data/data_sub_10k/export_COVID19_994568_d7_Bcell.fcs',\n",
       " '/home/ewillie/Documents/PhD/DeepLearning_CyTOF/COVID_19_PBMC_Mathew_2020/data/data_sub_10k/export_COVID19_994569_Bcell.fcs',\n",
       " '/home/ewillie/Documents/PhD/DeepLearning_CyTOF/COVID_19_PBMC_Mathew_2020/data/data_sub_10k/export_COVID19_994569_d7_Bcell.fcs',\n",
       " '/home/ewillie/Documents/PhD/DeepLearning_CyTOF/COVID_19_PBMC_Mathew_2020/data/data_sub_10k/export_COVID19_994570_Bcell.fcs',\n",
       " '/home/ewillie/Documents/PhD/DeepLearning_CyTOF/COVID_19_PBMC_Mathew_2020/data/data_sub_10k/export_COVID19_994570_d7_Bcell.fcs',\n",
       " '/home/ewillie/Documents/PhD/DeepLearning_CyTOF/COVID_19_PBMC_Mathew_2020/data/data_sub_10k/export_COVID19_994571_Bcell.fcs',\n",
       " '/home/ewillie/Documents/PhD/DeepLearning_CyTOF/COVID_19_PBMC_Mathew_2020/data/data_sub_10k/export_COVID19_994572_Bcell.fcs',\n",
       " '/home/ewillie/Documents/PhD/DeepLearning_CyTOF/COVID_19_PBMC_Mathew_2020/data/data_sub_10k/export_COVID19_994572_d7_Bcell.fcs',\n",
       " '/home/ewillie/Documents/PhD/DeepLearning_CyTOF/COVID_19_PBMC_Mathew_2020/data/data_sub_10k/export_COVID19_994573_Bcell.fcs',\n",
       " '/home/ewillie/Documents/PhD/DeepLearning_CyTOF/COVID_19_PBMC_Mathew_2020/data/data_sub_10k/export_COVID19_994577_d0_Bcell.fcs',\n",
       " '/home/ewillie/Documents/PhD/DeepLearning_CyTOF/COVID_19_PBMC_Mathew_2020/data/data_sub_10k/export_COVID19_994578_d0_Bcell.fcs',\n",
       " '/home/ewillie/Documents/PhD/DeepLearning_CyTOF/COVID_19_PBMC_Mathew_2020/data/data_sub_10k/export_COVID19_994579_d0_Bcell.fcs',\n",
       " '/home/ewillie/Documents/PhD/DeepLearning_CyTOF/COVID_19_PBMC_Mathew_2020/data/data_sub_10k/export_COVID19_994580_d0_Bcell.fcs',\n",
       " '/home/ewillie/Documents/PhD/DeepLearning_CyTOF/COVID_19_PBMC_Mathew_2020/data/data_sub_10k/export_COVID19_994581_d0_Bcell.fcs',\n",
       " '/home/ewillie/Documents/PhD/DeepLearning_CyTOF/COVID_19_PBMC_Mathew_2020/data/data_sub_10k/export_COVID19_994581_d21_Bcell.fcs',\n",
       " '/home/ewillie/Documents/PhD/DeepLearning_CyTOF/COVID_19_PBMC_Mathew_2020/data/data_sub_10k/export_COVID19_994581_d7_2_Bcell.fcs',\n",
       " '/home/ewillie/Documents/PhD/DeepLearning_CyTOF/COVID_19_PBMC_Mathew_2020/data/data_sub_10k/export_COVID19_994582_d0_Bcell.fcs',\n",
       " '/home/ewillie/Documents/PhD/DeepLearning_CyTOF/COVID_19_PBMC_Mathew_2020/data/data_sub_10k/export_COVID19_994584_d0_Bcell.fcs',\n",
       " '/home/ewillie/Documents/PhD/DeepLearning_CyTOF/COVID_19_PBMC_Mathew_2020/data/data_sub_10k/export_COVID19_994584_d7_Bcell.fcs',\n",
       " '/home/ewillie/Documents/PhD/DeepLearning_CyTOF/COVID_19_PBMC_Mathew_2020/data/data_sub_10k/export_COVID19_994585_d0_Bcell.fcs',\n",
       " '/home/ewillie/Documents/PhD/DeepLearning_CyTOF/COVID_19_PBMC_Mathew_2020/data/data_sub_10k/export_COVID19_994585_d7_Bcell.fcs',\n",
       " '/home/ewillie/Documents/PhD/DeepLearning_CyTOF/COVID_19_PBMC_Mathew_2020/data/data_sub_10k/export_COVID19_994587_d0_Bcell.fcs',\n",
       " '/home/ewillie/Documents/PhD/DeepLearning_CyTOF/COVID_19_PBMC_Mathew_2020/data/data_sub_10k/export_COVID19_994587_d21_Bcell.fcs',\n",
       " '/home/ewillie/Documents/PhD/DeepLearning_CyTOF/COVID_19_PBMC_Mathew_2020/data/data_sub_10k/export_COVID19_994587_d7_Bcell.fcs',\n",
       " '/home/ewillie/Documents/PhD/DeepLearning_CyTOF/COVID_19_PBMC_Mathew_2020/data/data_sub_10k/export_COVID19_994588_d0_Bcell.fcs',\n",
       " '/home/ewillie/Documents/PhD/DeepLearning_CyTOF/COVID_19_PBMC_Mathew_2020/data/data_sub_10k/export_COVID19_994588_d7_Bcell.fcs',\n",
       " '/home/ewillie/Documents/PhD/DeepLearning_CyTOF/COVID_19_PBMC_Mathew_2020/data/data_sub_10k/export_COVID19_994589_d0_Bcell.fcs',\n",
       " '/home/ewillie/Documents/PhD/DeepLearning_CyTOF/COVID_19_PBMC_Mathew_2020/data/data_sub_10k/export_COVID19_994590_d0_Bcell.fcs',\n",
       " '/home/ewillie/Documents/PhD/DeepLearning_CyTOF/COVID_19_PBMC_Mathew_2020/data/data_sub_10k/export_COVID19_994591_d0_Bcell.fcs',\n",
       " '/home/ewillie/Documents/PhD/DeepLearning_CyTOF/COVID_19_PBMC_Mathew_2020/data/data_sub_10k/export_COVID19_994591_d7_Bcell.fcs',\n",
       " '/home/ewillie/Documents/PhD/DeepLearning_CyTOF/COVID_19_PBMC_Mathew_2020/data/data_sub_10k/export_COVID19_994592_d0_Bcell.fcs',\n",
       " '/home/ewillie/Documents/PhD/DeepLearning_CyTOF/COVID_19_PBMC_Mathew_2020/data/data_sub_10k/export_COVID19_994592_d7_Bcell.fcs',\n",
       " '/home/ewillie/Documents/PhD/DeepLearning_CyTOF/COVID_19_PBMC_Mathew_2020/data/data_sub_10k/export_COVID19_994594_d0_Bcell.fcs',\n",
       " '/home/ewillie/Documents/PhD/DeepLearning_CyTOF/COVID_19_PBMC_Mathew_2020/data/data_sub_10k/export_COVID19_994596_d0_Bcell.fcs',\n",
       " '/home/ewillie/Documents/PhD/DeepLearning_CyTOF/COVID_19_PBMC_Mathew_2020/data/data_sub_10k/export_COVID19_994597_d0_Bcell.fcs',\n",
       " '/home/ewillie/Documents/PhD/DeepLearning_CyTOF/COVID_19_PBMC_Mathew_2020/data/data_sub_10k/export_COVID19_994599_d0_Bcell.fcs',\n",
       " '/home/ewillie/Documents/PhD/DeepLearning_CyTOF/COVID_19_PBMC_Mathew_2020/data/data_sub_10k/export_COVID19_994600_d0_Bcell.fcs',\n",
       " '/home/ewillie/Documents/PhD/DeepLearning_CyTOF/COVID_19_PBMC_Mathew_2020/data/data_sub_10k/export_COVID19_994601_d0_Bcell.fcs',\n",
       " '/home/ewillie/Documents/PhD/DeepLearning_CyTOF/COVID_19_PBMC_Mathew_2020/data/data_sub_10k/export_COVID19_994601_d7_Bcell.fcs',\n",
       " '/home/ewillie/Documents/PhD/DeepLearning_CyTOF/COVID_19_PBMC_Mathew_2020/data/data_sub_10k/export_COVID19_994605_d7_Bcell.fcs',\n",
       " '/home/ewillie/Documents/PhD/DeepLearning_CyTOF/COVID_19_PBMC_Mathew_2020/data/data_sub_10k/export_COVID19_994607_d0_Bcell.fcs',\n",
       " '/home/ewillie/Documents/PhD/DeepLearning_CyTOF/COVID_19_PBMC_Mathew_2020/data/data_sub_10k/export_COVID19_994609_d0_Bcell.fcs',\n",
       " '/home/ewillie/Documents/PhD/DeepLearning_CyTOF/COVID_19_PBMC_Mathew_2020/data/data_sub_10k/export_COVID19_994609_d7_Bcell.fcs',\n",
       " '/home/ewillie/Documents/PhD/DeepLearning_CyTOF/COVID_19_PBMC_Mathew_2020/data/data_sub_10k/export_COVID19_994610_d0_Bcell.fcs',\n",
       " '/home/ewillie/Documents/PhD/DeepLearning_CyTOF/COVID_19_PBMC_Mathew_2020/data/data_sub_10k/export_COVID19_994610_d21_Bcell.fcs',\n",
       " '/home/ewillie/Documents/PhD/DeepLearning_CyTOF/COVID_19_PBMC_Mathew_2020/data/data_sub_10k/export_COVID19_994610_d7_Bcell.fcs',\n",
       " '/home/ewillie/Documents/PhD/DeepLearning_CyTOF/COVID_19_PBMC_Mathew_2020/data/data_sub_10k/export_COVID19_994611_d0_Bcell.fcs',\n",
       " '/home/ewillie/Documents/PhD/DeepLearning_CyTOF/COVID_19_PBMC_Mathew_2020/data/data_sub_10k/export_COVID19_994612_d0_Bcell.fcs',\n",
       " '/home/ewillie/Documents/PhD/DeepLearning_CyTOF/COVID_19_PBMC_Mathew_2020/data/data_sub_10k/export_COVID19_994613_d0_Bcell.fcs',\n",
       " '/home/ewillie/Documents/PhD/DeepLearning_CyTOF/COVID_19_PBMC_Mathew_2020/data/data_sub_10k/export_COVID19_994613_d7_Bcell.fcs',\n",
       " '/home/ewillie/Documents/PhD/DeepLearning_CyTOF/COVID_19_PBMC_Mathew_2020/data/data_sub_10k/export_COVID19_994614_d0_Bcell.fcs',\n",
       " '/home/ewillie/Documents/PhD/DeepLearning_CyTOF/COVID_19_PBMC_Mathew_2020/data/data_sub_10k/export_COVID19_994616_d0_Bcell.fcs',\n",
       " '/home/ewillie/Documents/PhD/DeepLearning_CyTOF/COVID_19_PBMC_Mathew_2020/data/data_sub_10k/export_COVID19_994616_d7_Bcell.fcs',\n",
       " '/home/ewillie/Documents/PhD/DeepLearning_CyTOF/COVID_19_PBMC_Mathew_2020/data/data_sub_10k/export_COVID19_994617_d0_Bcell.fcs',\n",
       " '/home/ewillie/Documents/PhD/DeepLearning_CyTOF/COVID_19_PBMC_Mathew_2020/data/data_sub_10k/export_COVID19_994617_d7_Bcell.fcs',\n",
       " '/home/ewillie/Documents/PhD/DeepLearning_CyTOF/COVID_19_PBMC_Mathew_2020/data/data_sub_10k/export_COVID19_994618_d0_Bcell.fcs',\n",
       " '/home/ewillie/Documents/PhD/DeepLearning_CyTOF/COVID_19_PBMC_Mathew_2020/data/data_sub_10k/export_COVID19_994619_d0_Bcell.fcs',\n",
       " '/home/ewillie/Documents/PhD/DeepLearning_CyTOF/COVID_19_PBMC_Mathew_2020/data/data_sub_10k/export_COVID19_994620_d0_Bcell.fcs',\n",
       " '/home/ewillie/Documents/PhD/DeepLearning_CyTOF/COVID_19_PBMC_Mathew_2020/data/data_sub_10k/export_COVID19_994621_d0_Bcell.fcs',\n",
       " '/home/ewillie/Documents/PhD/DeepLearning_CyTOF/COVID_19_PBMC_Mathew_2020/data/data_sub_10k/export_COVID19_994622_d0_Bcell.fcs',\n",
       " '/home/ewillie/Documents/PhD/DeepLearning_CyTOF/COVID_19_PBMC_Mathew_2020/data/data_sub_10k/export_COVID19_994622_d7_Bcell.fcs',\n",
       " '/home/ewillie/Documents/PhD/DeepLearning_CyTOF/COVID_19_PBMC_Mathew_2020/data/data_sub_10k/export_COVID19_994623_d7_Bcell.fcs',\n",
       " '/home/ewillie/Documents/PhD/DeepLearning_CyTOF/COVID_19_PBMC_Mathew_2020/data/data_sub_10k/export_COVID19_994624_d0_Bcell.fcs',\n",
       " '/home/ewillie/Documents/PhD/DeepLearning_CyTOF/COVID_19_PBMC_Mathew_2020/data/data_sub_10k/export_COVID19_994625_d0_Bcell.fcs',\n",
       " '/home/ewillie/Documents/PhD/DeepLearning_CyTOF/COVID_19_PBMC_Mathew_2020/data/data_sub_10k/export_COVID19_994625_d7_Bcell.fcs',\n",
       " '/home/ewillie/Documents/PhD/DeepLearning_CyTOF/COVID_19_PBMC_Mathew_2020/data/data_sub_10k/export_COVID19_994626_d0_Bcell.fcs',\n",
       " '/home/ewillie/Documents/PhD/DeepLearning_CyTOF/COVID_19_PBMC_Mathew_2020/data/data_sub_10k/export_COVID19_994626_d7_Bcell.fcs',\n",
       " '/home/ewillie/Documents/PhD/DeepLearning_CyTOF/COVID_19_PBMC_Mathew_2020/data/data_sub_10k/export_COVID19_994627_d0_Bcell.fcs',\n",
       " '/home/ewillie/Documents/PhD/DeepLearning_CyTOF/COVID_19_PBMC_Mathew_2020/data/data_sub_10k/export_COVID19_994628_d0_Bcell.fcs',\n",
       " '/home/ewillie/Documents/PhD/DeepLearning_CyTOF/COVID_19_PBMC_Mathew_2020/data/data_sub_10k/export_COVID19_994628_d7_Bcell.fcs',\n",
       " '/home/ewillie/Documents/PhD/DeepLearning_CyTOF/COVID_19_PBMC_Mathew_2020/data/data_sub_10k/export_COVID19_994629_d0_Bcell.fcs',\n",
       " '/home/ewillie/Documents/PhD/DeepLearning_CyTOF/COVID_19_PBMC_Mathew_2020/data/data_sub_10k/export_COVID19_994630_d0_Bcell.fcs',\n",
       " '/home/ewillie/Documents/PhD/DeepLearning_CyTOF/COVID_19_PBMC_Mathew_2020/data/data_sub_10k/export_COVID19_994631_d0_Bcell.fcs',\n",
       " '/home/ewillie/Documents/PhD/DeepLearning_CyTOF/COVID_19_PBMC_Mathew_2020/data/data_sub_10k/export_COVID19_994632_d0_Bcell.fcs',\n",
       " '/home/ewillie/Documents/PhD/DeepLearning_CyTOF/COVID_19_PBMC_Mathew_2020/data/data_sub_10k/export_COVID19_994633_d0_Bcell.fcs',\n",
       " '/home/ewillie/Documents/PhD/DeepLearning_CyTOF/COVID_19_PBMC_Mathew_2020/data/data_sub_10k/export_COVID19_994634_d0_Bcell.fcs',\n",
       " '/home/ewillie/Documents/PhD/DeepLearning_CyTOF/COVID_19_PBMC_Mathew_2020/data/data_sub_10k/export_COVID19_994635_d0_Bcell.fcs',\n",
       " '/home/ewillie/Documents/PhD/DeepLearning_CyTOF/COVID_19_PBMC_Mathew_2020/data/data_sub_10k/export_COVID19_994636_d0_Bcell.fcs',\n",
       " '/home/ewillie/Documents/PhD/DeepLearning_CyTOF/COVID_19_PBMC_Mathew_2020/data/data_sub_10k/export_COVID19_994637_d0_Bcell.fcs',\n",
       " '/home/ewillie/Documents/PhD/DeepLearning_CyTOF/COVID_19_PBMC_Mathew_2020/data/data_sub_10k/export_COVID19_994638_d0_Bcell.fcs',\n",
       " '/home/ewillie/Documents/PhD/DeepLearning_CyTOF/COVID_19_PBMC_Mathew_2020/data/data_sub_10k/export_COVID19_994639_d0_Bcell.fcs',\n",
       " '/home/ewillie/Documents/PhD/DeepLearning_CyTOF/COVID_19_PBMC_Mathew_2020/data/data_sub_10k/export_COVID19_994640_d0_Bcell.fcs',\n",
       " '/home/ewillie/Documents/PhD/DeepLearning_CyTOF/COVID_19_PBMC_Mathew_2020/data/data_sub_10k/export_COVID19_994641_d0_Bcell.fcs',\n",
       " '/home/ewillie/Documents/PhD/DeepLearning_CyTOF/COVID_19_PBMC_Mathew_2020/data/data_sub_10k/export_COVID19_994644_d0_Bcell.fcs',\n",
       " '/home/ewillie/Documents/PhD/DeepLearning_CyTOF/COVID_19_PBMC_Mathew_2020/data/data_sub_10k/export_COVID19_994645_d0_Bcell.fcs',\n",
       " '/home/ewillie/Documents/PhD/DeepLearning_CyTOF/COVID_19_PBMC_Mathew_2020/data/data_sub_10k/export_COVID19_994645_d7_Bcell.fcs',\n",
       " '/home/ewillie/Documents/PhD/DeepLearning_CyTOF/COVID_19_PBMC_Mathew_2020/data/data_sub_10k/export_COVID19_994654_d0_Bcell.fcs',\n",
       " '/home/ewillie/Documents/PhD/DeepLearning_CyTOF/COVID_19_PBMC_Mathew_2020/data/data_sub_10k/export_COVID19_994655_d0_Bcell.fcs',\n",
       " '/home/ewillie/Documents/PhD/DeepLearning_CyTOF/COVID_19_PBMC_Mathew_2020/data/data_sub_10k/export_COVID19_994657_d0_Bcell.fcs',\n",
       " '/home/ewillie/Documents/PhD/DeepLearning_CyTOF/COVID_19_PBMC_Mathew_2020/data/data_sub_10k/export_COVID19_994658_d0_Bcell.fcs',\n",
       " '/home/ewillie/Documents/PhD/DeepLearning_CyTOF/COVID_19_PBMC_Mathew_2020/data/data_sub_10k/export_COVID19_994659_d0_Bcell.fcs',\n",
       " '/home/ewillie/Documents/PhD/DeepLearning_CyTOF/COVID_19_PBMC_Mathew_2020/data/data_sub_10k/export_COVID19_994660_d0_Bcell.fcs',\n",
       " '/home/ewillie/Documents/PhD/DeepLearning_CyTOF/COVID_19_PBMC_Mathew_2020/data/data_sub_10k/export_COVID19_ECD2020-001_Bcell.fcs',\n",
       " '/home/ewillie/Documents/PhD/DeepLearning_CyTOF/COVID_19_PBMC_Mathew_2020/data/data_sub_10k/export_COVID19_ERD2020_020_Bcell.fcs',\n",
       " '/home/ewillie/Documents/PhD/DeepLearning_CyTOF/COVID_19_PBMC_Mathew_2020/data/data_sub_10k/export_COVID19_HD2020_014_Bcell.fcs',\n",
       " '/home/ewillie/Documents/PhD/DeepLearning_CyTOF/COVID_19_PBMC_Mathew_2020/data/data_sub_10k/export_COVID19_HD2020_016_Bcell.fcs',\n",
       " '/home/ewillie/Documents/PhD/DeepLearning_CyTOF/COVID_19_PBMC_Mathew_2020/data/data_sub_10k/export_COVID19_HD2020_019_Bcell.fcs',\n",
       " '/home/ewillie/Documents/PhD/DeepLearning_CyTOF/COVID_19_PBMC_Mathew_2020/data/data_sub_10k/export_COVID19_HD2020_021_Bcell.fcs',\n",
       " '/home/ewillie/Documents/PhD/DeepLearning_CyTOF/COVID_19_PBMC_Mathew_2020/data/data_sub_10k/export_COVID19_HD2020_023_Bcell.fcs',\n",
       " '/home/ewillie/Documents/PhD/DeepLearning_CyTOF/COVID_19_PBMC_Mathew_2020/data/data_sub_10k/export_COVID19_HD2020_024_Bcell.fcs',\n",
       " '/home/ewillie/Documents/PhD/DeepLearning_CyTOF/COVID_19_PBMC_Mathew_2020/data/data_sub_10k/export_COVID19_HD2020_033_Bcell.fcs',\n",
       " '/home/ewillie/Documents/PhD/DeepLearning_CyTOF/COVID_19_PBMC_Mathew_2020/data/data_sub_10k/export_COVID19_HD2020-007_Bcell.fcs',\n",
       " '/home/ewillie/Documents/PhD/DeepLearning_CyTOF/COVID_19_PBMC_Mathew_2020/data/data_sub_10k/export_COVID19_HD2020-011_Bcell.fcs',\n",
       " '/home/ewillie/Documents/PhD/DeepLearning_CyTOF/COVID_19_PBMC_Mathew_2020/data/data_sub_10k/export_COVID19_HD2020-018_Bcell.fcs',\n",
       " '/home/ewillie/Documents/PhD/DeepLearning_CyTOF/COVID_19_PBMC_Mathew_2020/data/data_sub_10k/export_COVID19_HIC_ERD2020_006_Bcell.fcs',\n",
       " '/home/ewillie/Documents/PhD/DeepLearning_CyTOF/COVID_19_PBMC_Mathew_2020/data/data_sub_10k/export_COVID19_HIC_ERD2020_007_Bcell.fcs',\n",
       " '/home/ewillie/Documents/PhD/DeepLearning_CyTOF/COVID_19_PBMC_Mathew_2020/data/data_sub_10k/export_COVID19_HIC_ERD2020_009_Bcell.fcs',\n",
       " '/home/ewillie/Documents/PhD/DeepLearning_CyTOF/COVID_19_PBMC_Mathew_2020/data/data_sub_10k/export_COVID19_HIC_ERD2020_010_Bcell.fcs',\n",
       " '/home/ewillie/Documents/PhD/DeepLearning_CyTOF/COVID_19_PBMC_Mathew_2020/data/data_sub_10k/export_COVID19_HIC_ERD2020_013_Bcell.fcs',\n",
       " '/home/ewillie/Documents/PhD/DeepLearning_CyTOF/COVID_19_PBMC_Mathew_2020/data/data_sub_10k/export_COVID19_HIC_ERD2020_022_Bcell.fcs',\n",
       " '/home/ewillie/Documents/PhD/DeepLearning_CyTOF/COVID_19_PBMC_Mathew_2020/data/data_sub_10k/export_COVID19_HIC_HD2020_013_Bcell.fcs',\n",
       " '/home/ewillie/Documents/PhD/DeepLearning_CyTOF/COVID_19_PBMC_Mathew_2020/data/data_sub_10k/export_COVID19_HIC_HD2020_017_Bcell.fcs',\n",
       " '/home/ewillie/Documents/PhD/DeepLearning_CyTOF/COVID_19_PBMC_Mathew_2020/data/data_sub_10k/export_COVID19_HIC_HD2020_025_Bcell.fcs',\n",
       " '/home/ewillie/Documents/PhD/DeepLearning_CyTOF/COVID_19_PBMC_Mathew_2020/data/data_sub_10k/export_COVID19_HIC_HD2020_026_Bcell.fcs',\n",
       " '/home/ewillie/Documents/PhD/DeepLearning_CyTOF/COVID_19_PBMC_Mathew_2020/data/data_sub_10k/export_COVID19_HIC_HD2020_027_Bcell.fcs',\n",
       " '/home/ewillie/Documents/PhD/DeepLearning_CyTOF/COVID_19_PBMC_Mathew_2020/data/data_sub_10k/export_COVID19_HIC_HD2020_028_Bcell.fcs',\n",
       " '/home/ewillie/Documents/PhD/DeepLearning_CyTOF/COVID_19_PBMC_Mathew_2020/data/data_sub_10k/export_COVID19_HIC_HD2020_029_Bcell.fcs',\n",
       " '/home/ewillie/Documents/PhD/DeepLearning_CyTOF/COVID_19_PBMC_Mathew_2020/data/data_sub_10k/export_COVID19_HIC_HD2020_030_Bcell.fcs',\n",
       " '/home/ewillie/Documents/PhD/DeepLearning_CyTOF/COVID_19_PBMC_Mathew_2020/data/data_sub_10k/export_COVID19_HIC_HD2020_031_Bcell.fcs',\n",
       " '/home/ewillie/Documents/PhD/DeepLearning_CyTOF/COVID_19_PBMC_Mathew_2020/data/data_sub_10k/export_COVID19_HIC_HD2020_032_Bcell.fcs',\n",
       " '/home/ewillie/Documents/PhD/DeepLearning_CyTOF/COVID_19_PBMC_Mathew_2020/data/data_sub_10k/export_COVID19_HIC_HD2020_034_Bcell.fcs',\n",
       " '/home/ewillie/Documents/PhD/DeepLearning_CyTOF/COVID_19_PBMC_Mathew_2020/data/data_sub_10k/export_COVID19_HIC_HD2020_037_Bcell.fcs',\n",
       " '/home/ewillie/Documents/PhD/DeepLearning_CyTOF/COVID_19_PBMC_Mathew_2020/data/data_sub_10k/export_COVID19_HIC_HD2020_038_Bcell.fcs',\n",
       " '/home/ewillie/Documents/PhD/DeepLearning_CyTOF/COVID_19_PBMC_Mathew_2020/data/data_sub_10k/export_COVID19_HIC_HD2020_041_Bcell.fcs',\n",
       " '/home/ewillie/Documents/PhD/DeepLearning_CyTOF/COVID_19_PBMC_Mathew_2020/data/data_sub_10k/export_COVID19_HIC_SRD2020_013_Bcell.fcs',\n",
       " '/home/ewillie/Documents/PhD/DeepLearning_CyTOF/COVID_19_PBMC_Mathew_2020/data/data_sub_10k/export_COVID19_HIC_SRD2020_015_Bcell.fcs',\n",
       " '/home/ewillie/Documents/PhD/DeepLearning_CyTOF/COVID_19_PBMC_Mathew_2020/data/data_sub_10k/export_COVID19_HIC_SRD2020_016_Bcell.fcs',\n",
       " '/home/ewillie/Documents/PhD/DeepLearning_CyTOF/COVID_19_PBMC_Mathew_2020/data/data_sub_10k/export_COVID19_HIC_SRD2020_020_Bcell.fcs',\n",
       " '/home/ewillie/Documents/PhD/DeepLearning_CyTOF/COVID_19_PBMC_Mathew_2020/data/data_sub_10k/export_COVID19_HIC_SRD2020_021_Bcell.fcs',\n",
       " '/home/ewillie/Documents/PhD/DeepLearning_CyTOF/COVID_19_PBMC_Mathew_2020/data/data_sub_10k/export_COVID19_HIC_SRD2020_023_Bcell.fcs',\n",
       " '/home/ewillie/Documents/PhD/DeepLearning_CyTOF/COVID_19_PBMC_Mathew_2020/data/data_sub_10k/export_COVID19_HIC_SRD2020_024_Bcell.fcs',\n",
       " '/home/ewillie/Documents/PhD/DeepLearning_CyTOF/COVID_19_PBMC_Mathew_2020/data/data_sub_10k/export_COVID19_HIC_SRD2020_025_Bcell.fcs',\n",
       " '/home/ewillie/Documents/PhD/DeepLearning_CyTOF/COVID_19_PBMC_Mathew_2020/data/data_sub_10k/export_COVID19_HIC_SRD2020_032_Bcell.fcs',\n",
       " '/home/ewillie/Documents/PhD/DeepLearning_CyTOF/COVID_19_PBMC_Mathew_2020/data/data_sub_10k/export_COVID19_HIC_SRD2020_033_Bcell.fcs',\n",
       " '/home/ewillie/Documents/PhD/DeepLearning_CyTOF/COVID_19_PBMC_Mathew_2020/data/data_sub_10k/export_COVID19_HIC_SRD2020_037_Bcell.fcs',\n",
       " '/home/ewillie/Documents/PhD/DeepLearning_CyTOF/COVID_19_PBMC_Mathew_2020/data/data_sub_10k/export_COVID19_HIC_SRD2020_038_Bcell.fcs',\n",
       " '/home/ewillie/Documents/PhD/DeepLearning_CyTOF/COVID_19_PBMC_Mathew_2020/data/data_sub_10k/export_COVID19_HIC-ERD2020-003_Bcell.fcs',\n",
       " '/home/ewillie/Documents/PhD/DeepLearning_CyTOF/COVID_19_PBMC_Mathew_2020/data/data_sub_10k/export_COVID19_HIC-HD2020-008_Bcell.fcs',\n",
       " '/home/ewillie/Documents/PhD/DeepLearning_CyTOF/COVID_19_PBMC_Mathew_2020/data/data_sub_10k/export_COVID19_HIC-HD2020-009_Bcell.fcs',\n",
       " '/home/ewillie/Documents/PhD/DeepLearning_CyTOF/COVID_19_PBMC_Mathew_2020/data/data_sub_10k/export_COVID19_HIC-HD2020-010_Bcell.fcs',\n",
       " '/home/ewillie/Documents/PhD/DeepLearning_CyTOF/COVID_19_PBMC_Mathew_2020/data/data_sub_10k/export_COVID19_HIC-HD2020-015_Bcell.fcs',\n",
       " '/home/ewillie/Documents/PhD/DeepLearning_CyTOF/COVID_19_PBMC_Mathew_2020/data/data_sub_10k/export_COVID19_SCD2020-002_Bcell.fcs',\n",
       " '/home/ewillie/Documents/PhD/DeepLearning_CyTOF/COVID_19_PBMC_Mathew_2020/data/data_sub_10k/export_COVID19_SCD2020-003_Bcell.fcs',\n",
       " '/home/ewillie/Documents/PhD/DeepLearning_CyTOF/COVID_19_PBMC_Mathew_2020/data/data_sub_10k/export_COVID19_SRD2020_005_Bcell.fcs',\n",
       " '/home/ewillie/Documents/PhD/DeepLearning_CyTOF/COVID_19_PBMC_Mathew_2020/data/data_sub_10k/export_COVID19_SRD2020_011_Bcell.fcs',\n",
       " '/home/ewillie/Documents/PhD/DeepLearning_CyTOF/COVID_19_PBMC_Mathew_2020/data/data_sub_10k/export_COVID19_SRD2020-009_Bcell.fcs']"
      ]
     },
     "execution_count": 16,
     "metadata": {},
     "output_type": "execute_result"
    }
   ],
   "source": [
    "##### list fcs files #####\n",
    "cytof_files = pd.read_csv(\"../Covid_Bcell_metadata.csv\")\n",
    "print(cytof_files)\n",
    "fn = [os.path.join(os.getcwd(),f) for f in cytof_files.file_name]\n",
    "fn"
   ]
  },
  {
   "cell_type": "code",
   "execution_count": 17,
   "metadata": {},
   "outputs": [
    {
     "name": "stderr",
     "output_type": "stream",
     "text": [
      "R[write to console]: In addition: \n",
      "R[write to console]: Warning message:\n",
      "\n",
      "R[write to console]: In (function (package, help, pos = 2, lib.loc = NULL, character.only = FALSE,  :\n",
      "R[write to console]: \n",
      " \n",
      "R[write to console]:  library ‘/usr/local/lib/R/site-library’ contains no packages\n",
      "\n"
     ]
    }
   ],
   "source": [
    "##### read fcs file using the flowCore R package #####\n",
    "# flowCore is a very well maintained R package for reading and analyzing fcs files\n",
    "# Many of the fcs file related packages in python are a little buggy to use\n",
    "# Therefore, it is worth the trouble to read the fcs files using R \n",
    "\n",
    "r = rp.robjects.r\n",
    "expr_list = []\n",
    "for i in range(0,len(fn)):\n",
    "    fn_i = fn[i]\n",
    "    r_code = (\"library(flowCore);\"+\n",
    "          \"library(MetaCyto);\"+\n",
    "          \"fn = '\"+ fn_i+ \"'; \"+\n",
    "          \"fcs = read.FCS(fn,truncate_max_range = FALSE);\"+\n",
    "          \"expr = fcs@exprs;\"+\n",
    "          \"markers = markerFinder(fcs);\"+\n",
    "          \"colnames(expr) = markers;\"+\n",
    "          \"expr = as.data.frame(expr);\"+\n",
    "         # subsample 10,000 cells +\n",
    "             \"return(as.data.frame(expr));\")\n",
    "    expr =  r(r_code)\n",
    "    expr_list.append(expr)"
   ]
  },
  {
   "cell_type": "code",
   "execution_count": 18,
   "metadata": {},
   "outputs": [
    {
     "data": {
      "text/plain": [
       "214"
      ]
     },
     "execution_count": 18,
     "metadata": {},
     "output_type": "execute_result"
    }
   ],
   "source": [
    "len(expr_list)"
   ]
  },
  {
   "cell_type": "code",
   "execution_count": 19,
   "metadata": {},
   "outputs": [
    {
     "name": "stdout",
     "output_type": "stream",
     "text": [
      "['CD45RA.BUV395', 'PD.1.BV421', 'CXCR5.BB515', 'TCF.1.AF647', 'CD38.BUV661', 'CD39.APCFIRE750', 'CD95.BV650', 'EOMES.PEEF610', 'CCR7.BB700', 'KI.67.AF700', 'CD16.BUV615', 'CD27.BUV737', 'CX3CR1.BB790', 'CD20.BUV805', 'T.BET.PE.CY7', 'HLA.DR.BV786']\n"
     ]
    }
   ],
   "source": [
    "markers = []\n",
    "for i in range(len(expr_list)):\n",
    "#     expr_list[i].colna = expr_list[i].columns.str.replace(' ', '-')\n",
    "    markers.extend(expr_list[i].colnames)\n",
    "\n",
    "markers = Counter(markers)\n",
    "markers = [k for k, c in markers.items() if c == 214]\n",
    "print(markers)\n",
    "\n",
    "for i in range(0,len(expr_list)):\n",
    "    t1 = expr_list[i] \n",
    "    with localconverter(ro.default_converter + pandas2ri.converter):\n",
    "        t1 = ro.conversion.rpy2py(t1)\n",
    "    expr_list[i] = t1.loc[:,markers]"
   ]
  },
  {
   "cell_type": "code",
   "execution_count": 87,
   "metadata": {},
   "outputs": [],
   "source": [
    "colsToDrop = ['FSC-A', 'FSC-H', 'FSC-W', 'SSC-A', 'SSC-H', 'SSC-W', 'TIME']"
   ]
  },
  {
   "cell_type": "code",
   "execution_count": 20,
   "metadata": {},
   "outputs": [
    {
     "name": "stdout",
     "output_type": "stream",
     "text": [
      "The dimenstion of the data is:  (214, 10000, 16, 1)\n"
     ]
    }
   ],
   "source": [
    "##### transform and format into numpy array\n",
    "def arcsinh(x):\n",
    "    return(np.arcsinh(x/5))\n",
    "\n",
    "coln = expr_list[0].columns\n",
    "for i in range(len(expr_list)):\n",
    "    t1 = expr_list[i]\n",
    "    t1 = t1.apply(arcsinh)\n",
    "    t1 = t1.values\n",
    "    shape1 = list(t1.shape)+[1]\n",
    "    t1 = t1.reshape(shape1)\n",
    "    expr_list[i] = t1\n",
    "    \n",
    "expr_list = np.stack(expr_list)\n",
    "print(\"The dimenstion of the data is: \", expr_list.shape)"
   ]
  },
  {
   "cell_type": "code",
   "execution_count": 21,
   "metadata": {},
   "outputs": [
    {
     "data": {
      "text/plain": [
       "Index(['CD45RA.BUV395', 'PD.1.BV421', 'CXCR5.BB515', 'TCF.1.AF647',\n",
       "       'CD38.BUV661', 'CD39.APCFIRE750', 'CD95.BV650', 'EOMES.PEEF610',\n",
       "       'CCR7.BB700', 'KI.67.AF700', 'CD16.BUV615', 'CD27.BUV737',\n",
       "       'CX3CR1.BB790', 'CD20.BUV805', 'T.BET.PE.CY7', 'HLA.DR.BV786'],\n",
       "      dtype='object')"
      ]
     },
     "execution_count": 21,
     "metadata": {},
     "output_type": "execute_result"
    }
   ],
   "source": [
    "coln"
   ]
  },
  {
   "cell_type": "code",
   "execution_count": 22,
   "metadata": {},
   "outputs": [],
   "source": [
    "allData = {\"cytof_files\":cytof_files, \n",
    "            \"expr_list\" : expr_list,\n",
    "            \"marker_names\" : coln}\n",
    "\n",
    "with open(\"../../DL_CyTOF/covid_bcell_allData.obj\", \"wb\") as f:\n",
    "    pickle.dump(allData, f)"
   ]
  },
  {
   "cell_type": "code",
   "execution_count": null,
   "metadata": {},
   "outputs": [],
   "source": []
  },
  {
   "cell_type": "code",
   "execution_count": null,
   "metadata": {
    "collapsed": true,
    "jupyter": {
     "outputs_hidden": true
    }
   },
   "outputs": [],
   "source": []
  },
  {
   "cell_type": "code",
   "execution_count": null,
   "metadata": {
    "collapsed": true,
    "jupyter": {
     "outputs_hidden": true
    }
   },
   "outputs": [],
   "source": []
  }
 ],
 "metadata": {
  "kernelspec": {
   "display_name": "Python 3 (ipykernel)",
   "language": "python",
   "name": "python3"
  },
  "language_info": {
   "codemirror_mode": {
    "name": "ipython",
    "version": 3
   },
   "file_extension": ".py",
   "mimetype": "text/x-python",
   "name": "python",
   "nbconvert_exporter": "python",
   "pygments_lexer": "ipython3",
   "version": "3.9.18"
  }
 },
 "nbformat": 4,
 "nbformat_minor": 4
}
